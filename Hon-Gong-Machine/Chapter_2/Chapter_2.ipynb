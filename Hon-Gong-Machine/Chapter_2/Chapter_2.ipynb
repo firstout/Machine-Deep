{
  "nbformat": 4,
  "nbformat_minor": 0,
  "metadata": {
    "colab": {
      "provenance": [],
      "collapsed_sections": []
    },
    "kernelspec": {
      "name": "python3",
      "display_name": "Python 3"
    },
    "language_info": {
      "name": "python"
    }
  },
  "cells": [
    {
      "cell_type": "markdown",
      "source": [
        "# 2-1. 훈련 세트와 테스트 세트"
      ],
      "metadata": {
        "id": "qyfkE_Q9aZbh"
      }
    },
    {
      "cell_type": "markdown",
      "source": [
        "### 지도 학습과 비지도 학습\n",
        "- 지도 학습 : 입력과 타겟이 있는 데이터셋을 가지고 학습하는 것 (ex. K최근접 방법)\n",
        "\n",
        "- 비지도 학습 : 입력만 있고 타겟 데이터가 없는 데이터셋을 가지고 학습하는 것. (비슷한 데이터끼리 묶음) \n",
        "\n",
        "- 강화 학습 : 모델이 어떤 행동을 수행한 후 주변 환경에서 행동의 결과를 피드백 받아 개선해나가는 것으로 환경에서 주는 보상값을 최대화하는 방법으로 학습"
      ],
      "metadata": {
        "id": "nOr9eA0SbaKB"
      }
    },
    {
      "cell_type": "markdown",
      "source": [
        "훈련할 때에는 타겟데이터를 사용하지만, 실제 예측 시에는 타겟 데이터를 사용하지 않는다.\n",
        "\n",
        "이를 위해서는 __훈련 세트__와 __테스트 세트__로 나눈다."
      ],
      "metadata": {
        "id": "QldUXHUHbaSI"
      }
    },
    {
      "cell_type": "code",
      "source": [
        "fish_length = [25.4, 26.3, 26.5, 29.0, 29.0, 29.7, 29.7, 30.0, 30.0, 30.7, 31.0, \n",
        "                31.0, 31.5, 32.0, 32.0, 32.0, 33.0, 33.0, 33.5, 33.5, 34.0, 34.0, \n",
        "                34.5, 35.0, 35.0, 35.0, 35.0, 36.0, 36.0, 37.0, 38.5, 38.5, 39.5, \n",
        "                41.0, 41.0, 9.8, 10.5, 10.6, 11.0, 11.2, 11.3, 11.8, 11.8, 12.0,\n",
        "                12.2, 12.4, 13.0, 14.3, 15.0]\n",
        "fish_weight = [242.0, 290.0, 340.0, 363.0, 430.0, 450.0, 500.0, 390.0, 450.0, 500.0, 475.0, \n",
        "                500.0, 500.0, 340.0, 600.0, 600.0, 700.0, 700.0, 610.0, 650.0, 575.0, 685.0,\n",
        "                620.0, 680.0, 700.0, 725.0, 720.0, 714.0, 850.0, 1000.0, 920.0, 955.0, 925.0,\n",
        "                975.0, 950.0, 6.7, 7.5, 7.0, 9.7, 9.8, 8.7, 10.0, 9.9, 9.8, 12.2, 13.4, 12.2, 19.7, 19.9]"
      ],
      "metadata": {
        "id": "o3GqJ6pqbaV0"
      },
      "execution_count": 1,
      "outputs": []
    },
    {
      "cell_type": "code",
      "source": [
        "fish_data = [[l, w] for l, w in zip(fish_length, fish_weight)]\n",
        "fish_target = [1] * 35 + [0] * 14 # 도미 35마리, 빙어 14마리"
      ],
      "metadata": {
        "id": "7kJzdx1-dj3b"
      },
      "execution_count": 5,
      "outputs": []
    },
    {
      "cell_type": "markdown",
      "source": [
        "### 테스트 세트로 평가하기"
      ],
      "metadata": {
        "id": "8xGT8exfbaZN"
      }
    },
    {
      "cell_type": "code",
      "source": [
        "from sklearn.neighbors import KNeighborsClassifier\n",
        "\n",
        "kn = KNeighborsClassifier()\n",
        "\n",
        "#훈련 셋\n",
        "train_input = fish_data[:35]\n",
        "train_target = fish_target[:35]\n",
        "\n",
        "#테스트 셋\n",
        "test_input = fish_data[35:]\n",
        "test_target = fish_target[35:]\n",
        "\n",
        "\n",
        "kn = kn.fit(train_input, train_target) # 학습시킬 데이터셋과 타겟(정답) 데이터를 넣어준다.\n",
        "\n",
        "kn.score(test_input, test_target) # 테스트할 데이터셋과 타겟 데이터를 넣어 점수 확인"
      ],
      "metadata": {
        "colab": {
          "base_uri": "https://localhost:8080/"
        },
        "id": "Loq3hFjPbab2",
        "outputId": "fedb143a-083f-45d3-a899-4afab7a1e4a7"
      },
      "execution_count": 15,
      "outputs": [
        {
          "output_type": "execute_result",
          "data": {
            "text/plain": [
              "0.0"
            ]
          },
          "metadata": {},
          "execution_count": 15
        }
      ]
    },
    {
      "cell_type": "markdown",
      "source": [
        "정확도가 0점인 이유는 훈련 세트와 테스트 세트에 샘플이 적절하게 섞이지 않은 **샘플링 편향** 때문이다.\n"
      ],
      "metadata": {
        "id": "ns6h7fkdewG8"
      }
    },
    {
      "cell_type": "markdown",
      "source": [
        "### 적절하게 섞기"
      ],
      "metadata": {
        "id": "B8lrday2fr_T"
      }
    },
    {
      "cell_type": "code",
      "source": [
        "import numpy as np\n",
        "\n",
        "input_arr = np.array(fish_data)\n",
        "target_arr = np.array(fish_target)\n",
        "\n",
        "np.random.seed(42)\n",
        "index = np.arange(49)\n",
        "np.random.shuffle(index)\n",
        "\n",
        "train_input = input_arr[index[:35]]\n",
        "train_target = target_arr[index[:35]]\n",
        "\n",
        "test_input = input_arr[index[35:]]\n",
        "test_target = target_arr[index[35:]]"
      ],
      "metadata": {
        "id": "YWH1PbT3fr9C"
      },
      "execution_count": 25,
      "outputs": []
    },
    {
      "cell_type": "code",
      "source": [
        "train_input, train_target"
      ],
      "metadata": {
        "colab": {
          "base_uri": "https://localhost:8080/"
        },
        "id": "yA5qe9FcglUf",
        "outputId": "74d37698-59a4-40e8-a0d5-0dc84a4f47d9"
      },
      "execution_count": 26,
      "outputs": [
        {
          "output_type": "execute_result",
          "data": {
            "text/plain": [
              "(array([[  32. ,  340. ],\n",
              "        [  12.4,   13.4],\n",
              "        [  14.3,   19.7],\n",
              "        [  12.2,   12.2],\n",
              "        [  33. ,  700. ],\n",
              "        [  36. ,  714. ],\n",
              "        [  35. ,  720. ],\n",
              "        [  35. ,  725. ],\n",
              "        [  38.5,  955. ],\n",
              "        [  33.5,  650. ],\n",
              "        [  31.5,  500. ],\n",
              "        [  29. ,  430. ],\n",
              "        [  41. ,  950. ],\n",
              "        [  30. ,  450. ],\n",
              "        [  29. ,  363. ],\n",
              "        [  29.7,  500. ],\n",
              "        [  11.3,    8.7],\n",
              "        [  11.8,   10. ],\n",
              "        [  13. ,   12.2],\n",
              "        [  32. ,  600. ],\n",
              "        [  30.7,  500. ],\n",
              "        [  33. ,  700. ],\n",
              "        [  35. ,  700. ],\n",
              "        [  41. ,  975. ],\n",
              "        [  38.5,  920. ],\n",
              "        [  25.4,  242. ],\n",
              "        [  12. ,    9.8],\n",
              "        [  39.5,  925. ],\n",
              "        [  29.7,  450. ],\n",
              "        [  37. , 1000. ],\n",
              "        [  31. ,  500. ],\n",
              "        [  10.5,    7.5],\n",
              "        [  26.3,  290. ],\n",
              "        [  34. ,  685. ],\n",
              "        [  26.5,  340. ]]),\n",
              " array([1, 0, 0, 0, 1, 1, 1, 1, 1, 1, 1, 1, 1, 1, 1, 1, 0, 0, 0, 1, 1, 1,\n",
              "        1, 1, 1, 1, 0, 1, 1, 1, 1, 0, 1, 1, 1]))"
            ]
          },
          "metadata": {},
          "execution_count": 26
        }
      ]
    },
    {
      "cell_type": "code",
      "source": [
        "# 분포 그려보기\n",
        "import matplotlib.pyplot as plt\n",
        "plt.scatter(train_input[:,0], train_input[:,1])\n",
        "plt.scatter(test_input[:,0], test_input[:,1])\n",
        "plt.xlabel('length')\n",
        "plt.ylabel('weight')\n",
        "plt.show()"
      ],
      "metadata": {
        "colab": {
          "base_uri": "https://localhost:8080/",
          "height": 279
        },
        "id": "lRxKnfrDfr6q",
        "outputId": "5d0d3c49-27a1-42e5-82d4-b68c493d1cea"
      },
      "execution_count": 22,
      "outputs": [
        {
          "output_type": "display_data",
          "data": {
            "text/plain": [
              "<Figure size 432x288 with 1 Axes>"
            ],
            "image/png": "[encoded data removed]"
          },
          "metadata": {
            "needs_background": "light"
          }
        }
      ]
    },
    {
      "cell_type": "code",
      "source": [
        "# 재 학습하기\n",
        "\n",
        "kn = kn.fit(train_input, train_target)\n",
        "kn.score(test_input, test_target)"
      ],
      "metadata": {
        "colab": {
          "base_uri": "https://localhost:8080/"
        },
        "id": "9t9iFuK5fr4T",
        "outputId": "be5c9028-3258-423c-d595-7a5c1c5fb260"
      },
      "execution_count": 27,
      "outputs": [
        {
          "output_type": "execute_result",
          "data": {
            "text/plain": [
              "1.0"
            ]
          },
          "metadata": {},
          "execution_count": 27
        }
      ]
    },
    {
      "cell_type": "code",
      "source": [
        "# 테스트셋 예측하기 (타겟값 X)\n",
        "\n",
        "kn.predict(test_input)"
      ],
      "metadata": {
        "colab": {
          "base_uri": "https://localhost:8080/"
        },
        "id": "mjhbMF_Dfr1s",
        "outputId": "d233ccf3-0fc4-4975-eb6f-10325c2151c9"
      },
      "execution_count": 28,
      "outputs": [
        {
          "output_type": "execute_result",
          "data": {
            "text/plain": [
              "array([0, 0, 1, 0, 1, 1, 1, 0, 1, 1, 0, 1, 1, 0])"
            ]
          },
          "metadata": {},
          "execution_count": 28
        }
      ]
    },
    {
      "cell_type": "code",
      "source": [
        "test_target # 일치!"
      ],
      "metadata": {
        "colab": {
          "base_uri": "https://localhost:8080/"
        },
        "id": "F9jyiTiFfrzH",
        "outputId": "229b2112-b794-43b9-a5c6-ee94c7268d30"
      },
      "execution_count": 30,
      "outputs": [
        {
          "output_type": "execute_result",
          "data": {
            "text/plain": [
              "array([0, 0, 1, 0, 1, 1, 1, 0, 1, 1, 0, 1, 1, 0])"
            ]
          },
          "metadata": {},
          "execution_count": 30
        }
      ]
    },
    {
      "cell_type": "markdown",
      "source": [
        "# 2-2. 데이터 전처리"
      ],
      "metadata": {
        "id": "t5-B54axfrwm"
      }
    },
    {
      "cell_type": "code",
      "source": [
        "fish_length = [25.4, 26.3, 26.5, 29.0, 29.0, 29.7, 29.7, 30.0, 30.0, 37.7,\n",
        "               31.0, 31.0, 31.5, 32.0, 32.0, 32.0, 33.0, 33.0, 33.5, 33.5,\n",
        "               34.0, 34.0, 34.5, 35.0, 35.0, 35.0, 35.0, 36.0, 36.0, 37.0,\n",
        "               38.5, 38.5, 39.5, 41.0, 41.0, 9.8, 10.5, 10.6, 11.0, 11.2,\n",
        "               11.3, 11.8, 11.8, 12.0, 12.2, 12.4, 13.0, 14.3, 15.0]\n",
        "\n",
        "fish_weight = [242.0, 290.0, 340.0, 363.0, 430.0, 450.0, 500.0, 390.0,\n",
        "               450.0, 500.0, 475.0, 500.0, 500.0, 340.0, 600.0, 600.0,\n",
        "               700.0, 700.0, 610.0, 650.0, 575.0, 685.0, 620.0, 680.0,\n",
        "               700.0, 725.0, 720.0, 714.0, 850.0, 1000.0, 920.0, 955.0,\n",
        "               925.0, 975.0, 950.0, 6.7, 7.5, 7.0, 9.7, 9.8, 8.7, 10.0,\n",
        "               9.9, 9.8, 12.2, 13.4, 12.2, 19.7, 19.9]"
      ],
      "metadata": {
        "id": "DREYqhPLfruZ"
      },
      "execution_count": 31,
      "outputs": []
    },
    {
      "cell_type": "code",
      "source": [
        "#Numpy의 column_stack을 이용해 length와 weight를 합치기\n",
        "fish_data = np.column_stack((fish_length, fish_weight))\n",
        "\n",
        "# 정답 데이터 만들기\n",
        "fish_target = np.concatenate((np.ones(35), np.zeros(14))) #1로 된 np.ones array와 np.zeros array를 합친다."
      ],
      "metadata": {
        "id": "WP9jmnXCfrrw"
      },
      "execution_count": 33,
      "outputs": []
    },
    {
      "cell_type": "code",
      "source": [
        "#scikitlearn을 이용해 훈련세트와 테스트세트로 나누기\n",
        "\n",
        "from sklearn.model_selection import train_test_split\n",
        "\n",
        "train_input, test_input, train_target, test_target = train_test_split(fish_data, fish_target, random_state = 42) #랜덤값 42로 섞어주기 (결과는 누구나 똑같다)"
      ],
      "metadata": {
        "id": "Z_-0h0tUfrpI"
      },
      "execution_count": 34,
      "outputs": []
    },
    {
      "cell_type": "markdown",
      "source": [
        "### 수상한 도미 한 마리"
      ],
      "metadata": {
        "id": "HJALizSSakjc"
      }
    },
    {
      "cell_type": "code",
      "source": [
        "from sklearn.neighbors import KNeighborsClassifier\n",
        "kn = KNeighborsClassifier()\n",
        "\n",
        "kn.fit(train_input, train_target)\n",
        "kn.score(test_input, test_target)"
      ],
      "metadata": {
        "colab": {
          "base_uri": "https://localhost:8080/"
        },
        "id": "gVYyPraAakm-",
        "outputId": "dc0b1263-ea60-4068-e9e0-afdd55fe21c4"
      },
      "execution_count": 35,
      "outputs": [
        {
          "output_type": "execute_result",
          "data": {
            "text/plain": [
              "1.0"
            ]
          },
          "metadata": {},
          "execution_count": 35
        }
      ]
    },
    {
      "cell_type": "code",
      "source": [
        "# 그려보기 (정답이 없는 데이터 하나 추가)\n",
        "import matplotlib.pyplot as plt\n",
        "plt.scatter(train_input[:,0], train_input[:,1])\n",
        "plt.scatter(25, 150, marker = '^') #정답이 없는 데이터 하나 추가\n",
        "plt.xlabel('length')\n",
        "plt.ylabel('weight')\n",
        "plt.show()"
      ],
      "metadata": {
        "colab": {
          "base_uri": "https://localhost:8080/",
          "height": 279
        },
        "id": "GRmjHKZ3akp8",
        "outputId": "570509b0-37aa-49ec-84b0-ef49355128c8"
      },
      "execution_count": 36,
      "outputs": [
        {
          "output_type": "display_data",
          "data": {
            "text/plain": [
              "<Figure size 432x288 with 1 Axes>"
            ],
            "image/png": "[encoded data removed]"
          },
          "metadata": {
            "needs_background": "light"
          }
        }
      ]
    },
    {
      "cell_type": "code",
      "source": [
        "print(kn.predict([[25,150]])) #25cm, 150g인 물고기가 빙어라고 예측됨"
      ],
      "metadata": {
        "colab": {
          "base_uri": "https://localhost:8080/"
        },
        "id": "jL_GlvxBlA3a",
        "outputId": "a9b32dbc-04f2-45ca-b8e3-943355672c22"
      },
      "execution_count": 38,
      "outputs": [
        {
          "output_type": "stream",
          "name": "stdout",
          "text": [
            "[0.]\n"
          ]
        }
      ]
    },
    {
      "cell_type": "code",
      "source": [
        "#분류된 물고기들과 인접한 거리, 인덱스를 계산해보기\n",
        "distances, indexes = kn.kneighbors([[25, 150]]) # 가장 가까운 5개의 샘플과의 거리를 보여줌\n",
        "\n",
        "plt.scatter(train_input[:, 0], train_input[:, 1])\n",
        "plt.scatter(25, 150, marker = '^')\n",
        "plt.scatter(train_input[indexes, 0], train_input[indexes, 1], marker = 'D') #수상한 물고기와 인접한 물고기 표시\n",
        "plt.xlabel('length')\n",
        "plt.ylabel('weight')\n",
        "plt.show()"
      ],
      "metadata": {
        "colab": {
          "base_uri": "https://localhost:8080/",
          "height": 279
        },
        "id": "MbUbZ_8JaktA",
        "outputId": "ea2f49e5-f0f2-4696-a667-999a2c33127d"
      },
      "execution_count": 40,
      "outputs": [
        {
          "output_type": "display_data",
          "data": {
            "text/plain": [
              "<Figure size 432x288 with 1 Axes>"
            ],
            "image/png": "[encoded data removed]"
          },
          "metadata": {
            "needs_background": "light"
          }
        }
      ]
    },
    {
      "cell_type": "code",
      "source": [
        "print(train_input[indexes], train_target[indexes])"
      ],
      "metadata": {
        "colab": {
          "base_uri": "https://localhost:8080/"
        },
        "id": "gpltIZBmakv1",
        "outputId": "0dd7119c-3225-4043-b6b6-6845cc48da01"
      },
      "execution_count": 43,
      "outputs": [
        {
          "output_type": "stream",
          "name": "stdout",
          "text": [
            "[[[ 25.4 242. ]\n",
            "  [ 15.   19.9]\n",
            "  [ 13.   12.2]\n",
            "  [ 26.3 290. ]\n",
            "  [ 11.8  10. ]]] [[1. 0. 0. 1. 0.]]\n"
          ]
        }
      ]
    },
    {
      "cell_type": "code",
      "source": [
        "print(distances)\n",
        "#실제론 도미와 거리가 가깝지만, 스케일이 멀어 제대로 예측이 안되었음 (length의 범위 : 10~40, weight의 범위 : 0~1000)"
      ],
      "metadata": {
        "colab": {
          "base_uri": "https://localhost:8080/"
        },
        "id": "UOhHEDWUakyn",
        "outputId": "a2a111f2-ac1d-4975-b02b-e08aaf01b2fc"
      },
      "execution_count": 45,
      "outputs": [
        {
          "output_type": "stream",
          "name": "stdout",
          "text": [
            "[[ 92.00086956 130.48375378 138.32150953 140.00603558 140.62090883]]\n"
          ]
        }
      ]
    },
    {
      "cell_type": "code",
      "source": [
        "# 기준 맞춰보기\n",
        "\n",
        "plt.scatter(train_input[:, 0], train_input[:, 1])\n",
        "plt.scatter(25, 150, marker = '^')\n",
        "plt.scatter(train_input[indexes, 0], train_input[indexes, 1], marker = 'D')\n",
        "plt.xlim((0, 1000)) # 수동으로 범위값을 정해줄 수 있음\n",
        "plt.xlabel('length')\n",
        "plt.ylabel('weight')\n",
        "plt.show()"
      ],
      "metadata": {
        "colab": {
          "base_uri": "https://localhost:8080/",
          "height": 279
        },
        "id": "94jri68Sak2P",
        "outputId": "869c023f-f3ac-4079-d92f-a04997b349a8"
      },
      "execution_count": 46,
      "outputs": [
        {
          "output_type": "display_data",
          "data": {
            "text/plain": [
              "<Figure size 432x288 with 1 Axes>"
            ],
            "image/png": "[encoded data removed]"
          },
          "metadata": {
            "needs_background": "light"
          }
        }
      ]
    },
    {
      "cell_type": "markdown",
      "source": [
        "이렇게 스케일이 다른 특성을 일정한 기준으로 맞추는 과정을 **데이터 전처리**라고 한다.\n",
        "\n",
        "가장 대표적인 전처리 방법 중 하나는 표준 점수를 구하는 것이다."
      ],
      "metadata": {
        "id": "_xre1e_Kak5f"
      }
    },
    {
      "cell_type": "code",
      "source": [
        "mean = np.mean(train_input, axis = 0)\n",
        "std = np.std(train_input, axis = 0)\n",
        "\n",
        "print(mean, std)"
      ],
      "metadata": {
        "colab": {
          "base_uri": "https://localhost:8080/"
        },
        "id": "jsC0hpWQak9I",
        "outputId": "046aa05b-e2c1-4ab0-92c2-b407321db69d"
      },
      "execution_count": 48,
      "outputs": [
        {
          "output_type": "stream",
          "name": "stdout",
          "text": [
            "[ 26.36944444 418.08888889] [ 10.36060432 321.67847023]\n"
          ]
        }
      ]
    },
    {
      "cell_type": "code",
      "source": [
        "train_scaled = (train_input - mean)/std\n",
        "print(train_scaled) #Numpy에서는 모든 행에 계산을 실행해주는 브로드 캐스팅 기능이 있다!"
      ],
      "metadata": {
        "colab": {
          "base_uri": "https://localhost:8080/"
        },
        "id": "xD38f_KdajQE",
        "outputId": "75e9511f-b456-4bc2-fe3a-9cdd811ff0d6"
      },
      "execution_count": 52,
      "outputs": [
        {
          "output_type": "stream",
          "name": "stdout",
          "text": [
            "[[ 0.35041928  0.09920189]\n",
            " [ 0.25389982 -0.17125451]\n",
            " [ 0.32146344  0.2546366 ]\n",
            " [-1.45449474 -1.27266487]\n",
            " [-1.406235   -1.26862357]\n",
            " [-1.29041164 -1.26178444]\n",
            " [ 0.54345822  0.56550602]\n",
            " [ 1.09361918  0.2546366 ]\n",
            " [ 0.63997768  0.87637544]\n",
            " [ 0.83301662  0.87637544]\n",
            " [ 1.41213341  1.73126635]\n",
            " [ 1.17083475  1.56028817]\n",
            " [-0.09357026 -0.54740651]\n",
            " [-1.38693111 -1.26924531]\n",
            " [ 1.26735421  1.57583164]\n",
            " [ 0.32146344  0.09920189]\n",
            " [ 1.02605555  1.80898371]\n",
            " [ 0.44693875  0.2546366 ]\n",
            " [-1.53171031 -1.2763953 ]\n",
            " [-0.00670274 -0.39818919]\n",
            " [ 0.73649715  0.82974503]\n",
            " [ 0.01260115 -0.24275448]\n",
            " [-1.52205836 -1.27794965]\n",
            " [-1.59927394 -1.27888226]\n",
            " [ 0.83301662  0.81420156]\n",
            " [-1.46414668 -1.26924531]\n",
            " [ 0.44693875  0.17691924]\n",
            " [ 0.78475688  0.6276799 ]\n",
            " [ 0.68823742  0.59659296]\n",
            " [-1.09737271 -1.2378475 ]\n",
            " [ 0.73649715  0.48778866]\n",
            " [ 0.35041928 -0.08731977]\n",
            " [-1.406235   -1.26893444]\n",
            " [ 0.54345822  0.56550602]\n",
            " [ 0.92953608  1.34267957]\n",
            " [-1.48345058 -1.26955618]]\n"
          ]
        }
      ]
    },
    {
      "cell_type": "markdown",
      "source": [
        "### 전처리 데이터로 모델 훈련하기"
      ],
      "metadata": {
        "id": "iKz7oyYiajNg"
      }
    },
    {
      "cell_type": "code",
      "source": [
        "plt.scatter(train_scaled[:, 0], train_scaled[:, 1])\n",
        "plt.scatter(25, 150, marker = '^')\n",
        "plt.xlabel('length')\n",
        "plt.ylabel('weight')\n",
        "plt.show()"
      ],
      "metadata": {
        "colab": {
          "base_uri": "https://localhost:8080/",
          "height": 279
        },
        "id": "KOdRjdjzajKn",
        "outputId": "d60602cb-3165-4f7d-c7e2-c8fcdfb17a63"
      },
      "execution_count": 53,
      "outputs": [
        {
          "output_type": "display_data",
          "data": {
            "text/plain": [
              "<Figure size 432x288 with 1 Axes>"
            ],
            "image/png": "[encoded data removed]"
          },
          "metadata": {
            "needs_background": "light"
          }
        }
      ]
    },
    {
      "cell_type": "code",
      "source": [
        "# 동떨어진 수상한 물고기만 떨어져 있다.\n",
        "# 이를 해결하기 위해서 샘플도 동일하게 계산을 해주어야 한다.\n",
        "\n",
        "new = ([25, 150] - mean) / std\n",
        "plt.scatter(train_scaled[:,0], train_scaled[:, 1])\n",
        "plt.scatter(new[0], new[1], marker = '^')\n",
        "plt.xlabel('length')\n",
        "plt.ylabel('weight')\n",
        "plt.show() #해결 !"
      ],
      "metadata": {
        "colab": {
          "base_uri": "https://localhost:8080/",
          "height": 279
        },
        "id": "jRxwNttcajIO",
        "outputId": "c00aab92-ddc7-4516-f777-d19832f13338"
      },
      "execution_count": 55,
      "outputs": [
        {
          "output_type": "display_data",
          "data": {
            "text/plain": [
              "<Figure size 432x288 with 1 Axes>"
            ],
            "image/png": "[encoded data removed]"
          },
          "metadata": {
            "needs_background": "light"
          }
        }
      ]
    },
    {
      "cell_type": "code",
      "source": [
        "#테스트 세트에도 동일한 작업 실행후 훈련\n",
        "\n",
        "test_scaled = (test_input - mean) / std\n",
        "\n",
        "kn.fit(train_scaled, train_target)\n",
        "\n",
        "kn.score(test_scaled, test_target)"
      ],
      "metadata": {
        "colab": {
          "base_uri": "https://localhost:8080/"
        },
        "id": "qWKjq8h4ajF5",
        "outputId": "e8d258d0-8394-4b88-c659-ab0a61713cc9"
      },
      "execution_count": 57,
      "outputs": [
        {
          "output_type": "execute_result",
          "data": {
            "text/plain": [
              "1.0"
            ]
          },
          "metadata": {},
          "execution_count": 57
        }
      ]
    },
    {
      "cell_type": "code",
      "source": [
        "print(kn.predict([new])) # 수상한 물고기 예측값 : 1 (도미로 나옴)"
      ],
      "metadata": {
        "colab": {
          "base_uri": "https://localhost:8080/"
        },
        "id": "Fy6qlGRaajDx",
        "outputId": "3422f561-7eba-42bb-c98f-235327ee2255"
      },
      "execution_count": 59,
      "outputs": [
        {
          "output_type": "stream",
          "name": "stdout",
          "text": [
            "[1.]\n"
          ]
        }
      ]
    },
    {
      "cell_type": "code",
      "source": [
        "#수상한 물고기와 가까운 거리에 있는 물고기 인덱스 구하여 나타내기\n",
        "\n",
        "distances, indexes = kn.kneighbors([new])\n",
        "plt.scatter(train_scaled[:, 0], train_scaled[:, 1])\n",
        "plt.scatter(new[0], new[1], marker = '^')\n",
        "plt.scatter(train_scaled[indexes, 0], train_scaled[indexes, 1], marker = 'D')\n",
        "plt.xlabel('length')\n",
        "plt.ylabel('weight')\n",
        "plt.show() #제대로 나옴!"
      ],
      "metadata": {
        "colab": {
          "base_uri": "https://localhost:8080/",
          "height": 279
        },
        "id": "5fSR4r1TajAv",
        "outputId": "9b7cb807-a447-465f-b2c3-d9dbde2d0595"
      },
      "execution_count": 61,
      "outputs": [
        {
          "output_type": "display_data",
          "data": {
            "text/plain": [
              "<Figure size 432x288 with 1 Axes>"
            ],
            "image/png": "[encoded data removed]"
          },
          "metadata": {
            "needs_background": "light"
          }
        }
      ]
    }
  ]
}